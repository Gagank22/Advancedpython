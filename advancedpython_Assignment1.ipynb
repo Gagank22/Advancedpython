{
 "cells": [
  {
   "cell_type": "code",
   "execution_count": null,
   "metadata": {},
   "outputs": [],
   "source": [
    "# task 1: function with at least three city-country pairs"
   ]
  },
  {
   "cell_type": "code",
   "execution_count": 3,
   "metadata": {},
   "outputs": [],
   "source": [
    "def city_country(city_name,country_name):\n",
    "    print(city_name,country_name)"
   ]
  },
  {
   "cell_type": "code",
   "execution_count": 5,
   "metadata": {},
   "outputs": [
    {
     "name": "stdout",
     "output_type": "stream",
     "text": [
      "Delhi India\n"
     ]
    }
   ],
   "source": [
    "city_country('Delhi','India')"
   ]
  },
  {
   "cell_type": "code",
   "execution_count": 6,
   "metadata": {},
   "outputs": [
    {
     "name": "stdout",
     "output_type": "stream",
     "text": [
      "Melbourne Australia\n"
     ]
    }
   ],
   "source": [
    "city_country('Melbourne','Australia')"
   ]
  },
  {
   "cell_type": "code",
   "execution_count": 7,
   "metadata": {},
   "outputs": [
    {
     "name": "stdout",
     "output_type": "stream",
     "text": [
      "Santiago Chile\n"
     ]
    }
   ],
   "source": [
    "city_country('Santiago', 'Chile')"
   ]
  },
  {
   "cell_type": "code",
   "execution_count": null,
   "metadata": {},
   "outputs": [],
   "source": [
    "# task 2: Write a function that accepts a list of items a person wants on a sandwich"
   ]
  },
  {
   "cell_type": "code",
   "execution_count": 10,
   "metadata": {},
   "outputs": [],
   "source": [
    "def order_sandwich(sandwich_list,sandwich_type):\n",
    "    print(f\"We have a {sandwich_list}\")\n",
    "    print(f\"You can order {sandwich_list} with {sandwich_type}.\")\n",
    "    "
   ]
  },
  {
   "cell_type": "code",
   "execution_count": 11,
   "metadata": {},
   "outputs": [
    {
     "name": "stdout",
     "output_type": "stream",
     "text": [
      "We have a Aloo Sandwich\n",
      "You can order Aloo Sandwich with extra cheese.\n"
     ]
    }
   ],
   "source": [
    "order_sandwich('Aloo Sandwich','extra cheese')"
   ]
  },
  {
   "cell_type": "code",
   "execution_count": 12,
   "metadata": {},
   "outputs": [
    {
     "name": "stdout",
     "output_type": "stream",
     "text": [
      "We have a Cheese Sandwich\n",
      "You can order Cheese Sandwich with Brown Bread.\n"
     ]
    }
   ],
   "source": [
    "order_sandwich('Cheese Sandwich','Brown Bread')"
   ]
  },
  {
   "cell_type": "code",
   "execution_count": 13,
   "metadata": {},
   "outputs": [
    {
     "name": "stdout",
     "output_type": "stream",
     "text": [
      "We have a Veg Sandwich\n",
      "You can order Veg Sandwich with extra toppings.\n"
     ]
    }
   ],
   "source": [
    "order_sandwich('Veg Sandwich','extra toppings')"
   ]
  },
  {
   "cell_type": "code",
   "execution_count": null,
   "metadata": {},
   "outputs": [],
   "source": [
    "# task 3.1: Make a class called Restaurant"
   ]
  },
  {
   "cell_type": "code",
   "execution_count": 140,
   "metadata": {},
   "outputs": [],
   "source": [
    "class Restaurant:\n",
    "    def __init__(self,restaurant_name,cuisine_type):\n",
    "        self.restaurant = restaurant_name\n",
    "        self.cuisine =cuisine_type\n",
    "    def describe_restaurant(self):\n",
    "        print(f\"Our restaurant name is {self.restaurant.title()} famous for {self.cuisine}\")\n",
    "    def open_resturant(self):\n",
    "        print(f\"{self.restaurant.title()} open for 24 hours.\")"
   ]
  },
  {
   "cell_type": "code",
   "execution_count": 141,
   "metadata": {},
   "outputs": [
    {
     "name": "stdout",
     "output_type": "stream",
     "text": [
      "Our restaurant name is Cafe famous for Italian\n"
     ]
    }
   ],
   "source": [
    "test= Restaurant('cafe','Italian')\n",
    "test.describe_restaurant()"
   ]
  },
  {
   "cell_type": "code",
   "execution_count": 143,
   "metadata": {},
   "outputs": [
    {
     "name": "stdout",
     "output_type": "stream",
     "text": [
      "Cafe open for 24 hours.\n"
     ]
    }
   ],
   "source": [
    "test.open_resturant()"
   ]
  },
  {
   "cell_type": "code",
   "execution_count": 146,
   "metadata": {},
   "outputs": [],
   "source": [
    "test = Restaurant('farzi','north indian')"
   ]
  },
  {
   "cell_type": "code",
   "execution_count": 148,
   "metadata": {},
   "outputs": [
    {
     "name": "stdout",
     "output_type": "stream",
     "text": [
      "Our restaurant name is Farzi famous for north indian\n",
      "Farzi open for 24 hours.\n"
     ]
    }
   ],
   "source": [
    "test.describe_restaurant()\n",
    "test.open_resturant()"
   ]
  },
  {
   "cell_type": "code",
   "execution_count": null,
   "metadata": {},
   "outputs": [],
   "source": [
    "# Make a class called User"
   ]
  },
  {
   "cell_type": "code",
   "execution_count": 160,
   "metadata": {},
   "outputs": [],
   "source": [
    "class User:\n",
    "    def __init__(self,first_name,last_name,job_profile,location):\n",
    "        self.firstname = first_name\n",
    "        self.lastname = last_name\n",
    "        self.jobprofile = job_profile\n",
    "        self.location = location\n",
    "    def describe_user(self):\n",
    "        print(f\"My name is {self.firstname.title()} {self.lastname.title()}.\")\n",
    "        print(f\"I am working as a {self.jobprofile} in {self.location.title()}\")\n",
    "        print(f\"I have 3 years of experience as {self.jobprofile}\")\n",
    "    def greet_user(self):\n",
    "        print(f\"Hello, {self.firstname.title()} {self.lastname.title()} welcome you to python classes\")\n",
    "        "
   ]
  },
  {
   "cell_type": "code",
   "execution_count": 162,
   "metadata": {},
   "outputs": [
    {
     "name": "stdout",
     "output_type": "stream",
     "text": [
      "My name is Gagan Kaur.\n",
      "I am working as a senior anayst in Gurgaon\n",
      "I have 3 years of experience as senior anayst\n",
      "Hello, Gagan Kaur welcome you to python classes\n"
     ]
    }
   ],
   "source": [
    "abc = User('gagan','kaur','senior anayst','gurgaon')\n",
    "abc.describe_user()\n",
    "abc.greet_user()"
   ]
  },
  {
   "cell_type": "code",
   "execution_count": 163,
   "metadata": {},
   "outputs": [
    {
     "name": "stdout",
     "output_type": "stream",
     "text": [
      "My name is Simran Saxena.\n",
      "I am working as a Executive in New Delhi\n",
      "I have 3 years of experience as Executive\n",
      "Hello, Simran Saxena welcome you to python classes\n"
     ]
    }
   ],
   "source": [
    "xyz = User('simran','saxena','Executive','New Delhi')\n",
    "xyz.describe_user()\n",
    "xyz.greet_user()"
   ]
  },
  {
   "cell_type": "code",
   "execution_count": null,
   "metadata": {},
   "outputs": [],
   "source": []
  },
  {
   "cell_type": "code",
   "execution_count": null,
   "metadata": {},
   "outputs": [],
   "source": []
  },
  {
   "cell_type": "code",
   "execution_count": null,
   "metadata": {},
   "outputs": [],
   "source": []
  },
  {
   "cell_type": "code",
   "execution_count": null,
   "metadata": {},
   "outputs": [],
   "source": []
  },
  {
   "cell_type": "code",
   "execution_count": null,
   "metadata": {},
   "outputs": [],
   "source": []
  }
 ],
 "metadata": {
  "kernelspec": {
   "display_name": "Python 3",
   "language": "python",
   "name": "python3"
  },
  "language_info": {
   "codemirror_mode": {
    "name": "ipython",
    "version": 3
   },
   "file_extension": ".py",
   "mimetype": "text/x-python",
   "name": "python",
   "nbconvert_exporter": "python",
   "pygments_lexer": "ipython3",
   "version": "3.8.5"
  }
 },
 "nbformat": 4,
 "nbformat_minor": 4
}
